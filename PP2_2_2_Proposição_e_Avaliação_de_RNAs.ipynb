{
  "nbformat": 4,
  "nbformat_minor": 0,
  "metadata": {
    "colab": {
      "name": "PP2.2.2 - Proposição e Avaliação de RNAs.ipynb",
      "provenance": [],
      "collapsed_sections": [],
      "include_colab_link": true
    },
    "kernelspec": {
      "display_name": "Python 3",
      "language": "python",
      "name": "python3"
    },
    "language_info": {
      "codemirror_mode": {
        "name": "ipython",
        "version": 3
      },
      "file_extension": ".py",
      "mimetype": "text/x-python",
      "name": "python",
      "nbconvert_exporter": "python",
      "pygments_lexer": "ipython3",
      "version": "3.6.10"
    }
  },
  "cells": [
    {
      "cell_type": "markdown",
      "metadata": {
        "id": "view-in-github",
        "colab_type": "text"
      },
      "source": [
        "<a href=\"https://colab.research.google.com/github/migvanderlei/rna-2-2/blob/main/PP2_2_2_Proposic%CC%A7a%CC%83o_e_Avaliac%CC%A7a%CC%83o_de_RNAs.ipynb\" target=\"_parent\"><img src=\"https://colab.research.google.com/assets/colab-badge.svg\" alt=\"Open In Colab\"/></a>"
      ]
    },
    {
      "cell_type": "markdown",
      "metadata": {
        "id": "lcNBrtdjZnUS"
      },
      "source": [
        "## Redes Neurais Artificiais 2021.1\n",
        "\n",
        "- **Disciplina**: Redes Neurais Artificiais 2021.1  \n",
        "- **Professora**: Elloá B. Guedes (ebgcosta@uea.edu.br)  \n",
        "- **Github**: http://github.com/elloa  \n",
        "        \n",
        "\n",
        "Levando em conta a base de dados **_Forest Cover Type_**, esta segunda parte do Projeto Prático 2.2 diz respeito à proposição e avaliação de múltiplas redes neurais artificiais do tipo feedforward multilayer perceptron para o problema da classificação multi-classe da cobertura florestal em uma área do Roosevelt National Forest.\n",
        "\n",
        "## Testando Redes Neurais sem os Atributos Categórios\n",
        "\n",
        "1. Abra a base de dados em questão\n",
        "2. Elimine todas as colunas relativas aos atributos categóricos\n",
        "3. Armazene o atributo alvo em uma variável y e os atributos preditores em uma variável X\n",
        "4. Efetue uma partição holdout 70/30 com o sklearn, distribuindo os exemplos de maneira aleatória\n",
        "5. Efetue o escalonamento dos atributos\n",
        "\n",
        "### Escalonando os atributos\n",
        "\n",
        "O treinamento de uma rede neural artificial é mais eficiente quando os valores que lhes são fornecidos como entrada são pequenos, pois isto favorece a convergência. Isto é feito escalonando-se todos os atributos para o intervalo [0,1], mas precisa ser feito de maneira cautelosa, para que informações do conjunto de teste não sejam fornecidas no treinamento.\n",
        "\n",
        "Há duas estratégias para tal escalonamento: normalização e padronização. Ambas possuem características particulares, vantagens e limitações, como é possível ver aqui: https://www.analyticsvidhya.com/blog/2020/04/feature-scaling-machine-learning-normalization-standardization/\n",
        "\n",
        "\n",
        "No nosso caso, vamos usar a padronização. Assim, com os atributos preditores do treinamento, isto é, X_train, deve-se subtrair a média e dividir pelo desvio padrão:\n",
        "\n",
        "X_train_std = (X_train - np.mean(X_train))/np.std(X_train)\n",
        "\n",
        "Em seguida, o mesmo deve ser feito com os atributos preditores do conjunto de testes, mas com padronização relativa ao conjunto de treinamento:\n",
        "\n",
        "X_test_std = (X_test - np.mean(X_train))/np.std(X_train)\n",
        "\n",
        "Se todo o conjunto X for utilizado na padronização, a rede neural receberá informações do conjunto de teste por meio da média e variância utilizada para preparar os dados de treinamento, o que não é desejável.\n",
        "\n",
        "\n",
        "### Continuando\n",
        "\n",
        "5. Treine uma rede neural multilayer perceptron para este problema com uma única camada e dez neurônios  \n",
        "    5.1 Utilize a função de ativação ReLU  \n",
        "    5.2 Utilize o solver Adam    \n",
        "    5.3 Imprima o passo a passo do treinamento    \n",
        "    5.4 Utilize o número máximo de épocas igual a 300  \n",
        "6. Com o modelo em questão, após o treinamento, apresente:  \n",
        "    6.1 Matriz de confusão para o conjunto de teste  \n",
        "    6.2 Acurácia  \n",
        "    6.3 F-Score  \n",
        "    6.4 Precisão  \n",
        "    6.5 Revocação  \n",
        "7. Repita o treinamento da mesma rede anterior sem imprimir o passo a passo (verbose False) por 100 vezes  \n",
        "    7.1 Cada uma destas repetições deve ser feita com uma nova partição Holdout  \n",
        "    7.2 Apresente a média e o desvio padrão da acurácia e do F-Score para o conjunto de treino  \n",
        "8. Repita por 100 vezes o treinamento desta mesma rede, mas utilizando o otimizador SGD  \n",
        "    8.1 Apresente a média e o desvio padrão da acurácia e do F-Score para o conjunto de treino  \n",
        "9. Houve influência da escolha do otimizador no desempenho da rede?"
      ]
    },
    {
      "cell_type": "code",
      "metadata": {
        "id": "uYbROSO3lM-U"
      },
      "source": [
        "import pandas as pd\n",
        "import numpy as np\n",
        "from sklearn.model_selection import train_test_split\n",
        "from sklearn.neural_network import MLPClassifier\n",
        "from sklearn.metrics import confusion_matrix, accuracy_score, f1_score, precision_score, recall_score\n",
        "import seaborn as sns"
      ],
      "execution_count": null,
      "outputs": []
    },
    {
      "cell_type": "code",
      "metadata": {
        "colab": {
          "base_uri": "https://localhost:8080/",
          "height": 226
        },
        "id": "znQExpvTZnUU",
        "outputId": "e445882a-8158-4090-f904-4c530526f015"
      },
      "source": [
        "data = pd.read_csv(\"covtype.csv\")\n",
        "data.head()"
      ],
      "execution_count": null,
      "outputs": [
        {
          "data": {
            "text/html": [
              "<div>\n",
              "<style scoped>\n",
              "    .dataframe tbody tr th:only-of-type {\n",
              "        vertical-align: middle;\n",
              "    }\n",
              "\n",
              "    .dataframe tbody tr th {\n",
              "        vertical-align: top;\n",
              "    }\n",
              "\n",
              "    .dataframe thead th {\n",
              "        text-align: right;\n",
              "    }\n",
              "</style>\n",
              "<table border=\"1\" class=\"dataframe\">\n",
              "  <thead>\n",
              "    <tr style=\"text-align: right;\">\n",
              "      <th></th>\n",
              "      <th>Elevation</th>\n",
              "      <th>Aspect</th>\n",
              "      <th>Slope</th>\n",
              "      <th>Horizontal_Distance_To_Hydrology</th>\n",
              "      <th>Vertical_Distance_To_Hydrology</th>\n",
              "      <th>Horizontal_Distance_To_Roadways</th>\n",
              "      <th>Hillshade_9am</th>\n",
              "      <th>Hillshade_Noon</th>\n",
              "      <th>Hillshade_3pm</th>\n",
              "      <th>Horizontal_Distance_To_Fire_Points</th>\n",
              "      <th>Wilderness_Area1</th>\n",
              "      <th>Wilderness_Area2</th>\n",
              "      <th>Wilderness_Area3</th>\n",
              "      <th>Wilderness_Area4</th>\n",
              "      <th>Soil_Type1</th>\n",
              "      <th>Soil_Type2</th>\n",
              "      <th>Soil_Type3</th>\n",
              "      <th>Soil_Type4</th>\n",
              "      <th>Soil_Type5</th>\n",
              "      <th>Soil_Type6</th>\n",
              "      <th>Soil_Type7</th>\n",
              "      <th>Soil_Type8</th>\n",
              "      <th>Soil_Type9</th>\n",
              "      <th>Soil_Type10</th>\n",
              "      <th>Soil_Type11</th>\n",
              "      <th>Soil_Type12</th>\n",
              "      <th>Soil_Type13</th>\n",
              "      <th>Soil_Type14</th>\n",
              "      <th>Soil_Type15</th>\n",
              "      <th>Soil_Type16</th>\n",
              "      <th>Soil_Type17</th>\n",
              "      <th>Soil_Type18</th>\n",
              "      <th>Soil_Type19</th>\n",
              "      <th>Soil_Type20</th>\n",
              "      <th>Soil_Type21</th>\n",
              "      <th>Soil_Type22</th>\n",
              "      <th>Soil_Type23</th>\n",
              "      <th>Soil_Type24</th>\n",
              "      <th>Soil_Type25</th>\n",
              "      <th>Soil_Type26</th>\n",
              "      <th>Soil_Type27</th>\n",
              "      <th>Soil_Type28</th>\n",
              "      <th>Soil_Type29</th>\n",
              "      <th>Soil_Type30</th>\n",
              "      <th>Soil_Type31</th>\n",
              "      <th>Soil_Type32</th>\n",
              "      <th>Soil_Type33</th>\n",
              "      <th>Soil_Type34</th>\n",
              "      <th>Soil_Type35</th>\n",
              "      <th>Soil_Type36</th>\n",
              "      <th>Soil_Type37</th>\n",
              "      <th>Soil_Type38</th>\n",
              "      <th>Soil_Type39</th>\n",
              "      <th>Soil_Type40</th>\n",
              "      <th>Cover_Type</th>\n",
              "    </tr>\n",
              "  </thead>\n",
              "  <tbody>\n",
              "    <tr>\n",
              "      <th>0</th>\n",
              "      <td>2596</td>\n",
              "      <td>51</td>\n",
              "      <td>3</td>\n",
              "      <td>258</td>\n",
              "      <td>0</td>\n",
              "      <td>510</td>\n",
              "      <td>221</td>\n",
              "      <td>232</td>\n",
              "      <td>148</td>\n",
              "      <td>6279</td>\n",
              "      <td>1</td>\n",
              "      <td>0</td>\n",
              "      <td>0</td>\n",
              "      <td>0</td>\n",
              "      <td>0</td>\n",
              "      <td>0</td>\n",
              "      <td>0</td>\n",
              "      <td>0</td>\n",
              "      <td>0</td>\n",
              "      <td>0</td>\n",
              "      <td>0</td>\n",
              "      <td>0</td>\n",
              "      <td>0</td>\n",
              "      <td>0</td>\n",
              "      <td>0</td>\n",
              "      <td>0</td>\n",
              "      <td>0</td>\n",
              "      <td>0</td>\n",
              "      <td>0</td>\n",
              "      <td>0</td>\n",
              "      <td>0</td>\n",
              "      <td>0</td>\n",
              "      <td>0</td>\n",
              "      <td>0</td>\n",
              "      <td>0</td>\n",
              "      <td>0</td>\n",
              "      <td>0</td>\n",
              "      <td>0</td>\n",
              "      <td>0</td>\n",
              "      <td>0</td>\n",
              "      <td>0</td>\n",
              "      <td>0</td>\n",
              "      <td>1</td>\n",
              "      <td>0</td>\n",
              "      <td>0</td>\n",
              "      <td>0</td>\n",
              "      <td>0</td>\n",
              "      <td>0</td>\n",
              "      <td>0</td>\n",
              "      <td>0</td>\n",
              "      <td>0</td>\n",
              "      <td>0</td>\n",
              "      <td>0</td>\n",
              "      <td>0</td>\n",
              "      <td>5</td>\n",
              "    </tr>\n",
              "    <tr>\n",
              "      <th>1</th>\n",
              "      <td>2590</td>\n",
              "      <td>56</td>\n",
              "      <td>2</td>\n",
              "      <td>212</td>\n",
              "      <td>-6</td>\n",
              "      <td>390</td>\n",
              "      <td>220</td>\n",
              "      <td>235</td>\n",
              "      <td>151</td>\n",
              "      <td>6225</td>\n",
              "      <td>1</td>\n",
              "      <td>0</td>\n",
              "      <td>0</td>\n",
              "      <td>0</td>\n",
              "      <td>0</td>\n",
              "      <td>0</td>\n",
              "      <td>0</td>\n",
              "      <td>0</td>\n",
              "      <td>0</td>\n",
              "      <td>0</td>\n",
              "      <td>0</td>\n",
              "      <td>0</td>\n",
              "      <td>0</td>\n",
              "      <td>0</td>\n",
              "      <td>0</td>\n",
              "      <td>0</td>\n",
              "      <td>0</td>\n",
              "      <td>0</td>\n",
              "      <td>0</td>\n",
              "      <td>0</td>\n",
              "      <td>0</td>\n",
              "      <td>0</td>\n",
              "      <td>0</td>\n",
              "      <td>0</td>\n",
              "      <td>0</td>\n",
              "      <td>0</td>\n",
              "      <td>0</td>\n",
              "      <td>0</td>\n",
              "      <td>0</td>\n",
              "      <td>0</td>\n",
              "      <td>0</td>\n",
              "      <td>0</td>\n",
              "      <td>1</td>\n",
              "      <td>0</td>\n",
              "      <td>0</td>\n",
              "      <td>0</td>\n",
              "      <td>0</td>\n",
              "      <td>0</td>\n",
              "      <td>0</td>\n",
              "      <td>0</td>\n",
              "      <td>0</td>\n",
              "      <td>0</td>\n",
              "      <td>0</td>\n",
              "      <td>0</td>\n",
              "      <td>5</td>\n",
              "    </tr>\n",
              "    <tr>\n",
              "      <th>2</th>\n",
              "      <td>2804</td>\n",
              "      <td>139</td>\n",
              "      <td>9</td>\n",
              "      <td>268</td>\n",
              "      <td>65</td>\n",
              "      <td>3180</td>\n",
              "      <td>234</td>\n",
              "      <td>238</td>\n",
              "      <td>135</td>\n",
              "      <td>6121</td>\n",
              "      <td>1</td>\n",
              "      <td>0</td>\n",
              "      <td>0</td>\n",
              "      <td>0</td>\n",
              "      <td>0</td>\n",
              "      <td>0</td>\n",
              "      <td>0</td>\n",
              "      <td>0</td>\n",
              "      <td>0</td>\n",
              "      <td>0</td>\n",
              "      <td>0</td>\n",
              "      <td>0</td>\n",
              "      <td>0</td>\n",
              "      <td>0</td>\n",
              "      <td>0</td>\n",
              "      <td>1</td>\n",
              "      <td>0</td>\n",
              "      <td>0</td>\n",
              "      <td>0</td>\n",
              "      <td>0</td>\n",
              "      <td>0</td>\n",
              "      <td>0</td>\n",
              "      <td>0</td>\n",
              "      <td>0</td>\n",
              "      <td>0</td>\n",
              "      <td>0</td>\n",
              "      <td>0</td>\n",
              "      <td>0</td>\n",
              "      <td>0</td>\n",
              "      <td>0</td>\n",
              "      <td>0</td>\n",
              "      <td>0</td>\n",
              "      <td>0</td>\n",
              "      <td>0</td>\n",
              "      <td>0</td>\n",
              "      <td>0</td>\n",
              "      <td>0</td>\n",
              "      <td>0</td>\n",
              "      <td>0</td>\n",
              "      <td>0</td>\n",
              "      <td>0</td>\n",
              "      <td>0</td>\n",
              "      <td>0</td>\n",
              "      <td>0</td>\n",
              "      <td>2</td>\n",
              "    </tr>\n",
              "    <tr>\n",
              "      <th>3</th>\n",
              "      <td>2785</td>\n",
              "      <td>155</td>\n",
              "      <td>18</td>\n",
              "      <td>242</td>\n",
              "      <td>118</td>\n",
              "      <td>3090</td>\n",
              "      <td>238</td>\n",
              "      <td>238</td>\n",
              "      <td>122</td>\n",
              "      <td>6211</td>\n",
              "      <td>1</td>\n",
              "      <td>0</td>\n",
              "      <td>0</td>\n",
              "      <td>0</td>\n",
              "      <td>0</td>\n",
              "      <td>0</td>\n",
              "      <td>0</td>\n",
              "      <td>0</td>\n",
              "      <td>0</td>\n",
              "      <td>0</td>\n",
              "      <td>0</td>\n",
              "      <td>0</td>\n",
              "      <td>0</td>\n",
              "      <td>0</td>\n",
              "      <td>0</td>\n",
              "      <td>0</td>\n",
              "      <td>0</td>\n",
              "      <td>0</td>\n",
              "      <td>0</td>\n",
              "      <td>0</td>\n",
              "      <td>0</td>\n",
              "      <td>0</td>\n",
              "      <td>0</td>\n",
              "      <td>0</td>\n",
              "      <td>0</td>\n",
              "      <td>0</td>\n",
              "      <td>0</td>\n",
              "      <td>0</td>\n",
              "      <td>0</td>\n",
              "      <td>0</td>\n",
              "      <td>0</td>\n",
              "      <td>0</td>\n",
              "      <td>0</td>\n",
              "      <td>1</td>\n",
              "      <td>0</td>\n",
              "      <td>0</td>\n",
              "      <td>0</td>\n",
              "      <td>0</td>\n",
              "      <td>0</td>\n",
              "      <td>0</td>\n",
              "      <td>0</td>\n",
              "      <td>0</td>\n",
              "      <td>0</td>\n",
              "      <td>0</td>\n",
              "      <td>2</td>\n",
              "    </tr>\n",
              "    <tr>\n",
              "      <th>4</th>\n",
              "      <td>2595</td>\n",
              "      <td>45</td>\n",
              "      <td>2</td>\n",
              "      <td>153</td>\n",
              "      <td>-1</td>\n",
              "      <td>391</td>\n",
              "      <td>220</td>\n",
              "      <td>234</td>\n",
              "      <td>150</td>\n",
              "      <td>6172</td>\n",
              "      <td>1</td>\n",
              "      <td>0</td>\n",
              "      <td>0</td>\n",
              "      <td>0</td>\n",
              "      <td>0</td>\n",
              "      <td>0</td>\n",
              "      <td>0</td>\n",
              "      <td>0</td>\n",
              "      <td>0</td>\n",
              "      <td>0</td>\n",
              "      <td>0</td>\n",
              "      <td>0</td>\n",
              "      <td>0</td>\n",
              "      <td>0</td>\n",
              "      <td>0</td>\n",
              "      <td>0</td>\n",
              "      <td>0</td>\n",
              "      <td>0</td>\n",
              "      <td>0</td>\n",
              "      <td>0</td>\n",
              "      <td>0</td>\n",
              "      <td>0</td>\n",
              "      <td>0</td>\n",
              "      <td>0</td>\n",
              "      <td>0</td>\n",
              "      <td>0</td>\n",
              "      <td>0</td>\n",
              "      <td>0</td>\n",
              "      <td>0</td>\n",
              "      <td>0</td>\n",
              "      <td>0</td>\n",
              "      <td>0</td>\n",
              "      <td>1</td>\n",
              "      <td>0</td>\n",
              "      <td>0</td>\n",
              "      <td>0</td>\n",
              "      <td>0</td>\n",
              "      <td>0</td>\n",
              "      <td>0</td>\n",
              "      <td>0</td>\n",
              "      <td>0</td>\n",
              "      <td>0</td>\n",
              "      <td>0</td>\n",
              "      <td>0</td>\n",
              "      <td>5</td>\n",
              "    </tr>\n",
              "  </tbody>\n",
              "</table>\n",
              "</div>"
            ],
            "text/plain": [
              "   Elevation  Aspect  Slope  ...  Soil_Type39  Soil_Type40  Cover_Type\n",
              "0       2596      51      3  ...            0            0           5\n",
              "1       2590      56      2  ...            0            0           5\n",
              "2       2804     139      9  ...            0            0           2\n",
              "3       2785     155     18  ...            0            0           2\n",
              "4       2595      45      2  ...            0            0           5\n",
              "\n",
              "[5 rows x 55 columns]"
            ]
          },
          "execution_count": 15,
          "metadata": {},
          "output_type": "execute_result"
        }
      ]
    },
    {
      "cell_type": "code",
      "metadata": {
        "id": "yn16flGtlbtp"
      },
      "source": [
        "categorical_columns = [f'Wilderness_Area{i+1}' for i in range(4)] + [f'Soil_Type{i+1}' for i in range(40)]"
      ],
      "execution_count": null,
      "outputs": []
    },
    {
      "cell_type": "code",
      "metadata": {
        "colab": {
          "base_uri": "https://localhost:8080/",
          "height": 226
        },
        "id": "LoV5Ecmwl6Ot",
        "outputId": "90b43570-d535-4329-8b13-10f3a8153b01"
      },
      "source": [
        "data = data.drop(categorical_columns, axis=1)\n",
        "data.head()"
      ],
      "execution_count": null,
      "outputs": [
        {
          "data": {
            "text/html": [
              "<div>\n",
              "<style scoped>\n",
              "    .dataframe tbody tr th:only-of-type {\n",
              "        vertical-align: middle;\n",
              "    }\n",
              "\n",
              "    .dataframe tbody tr th {\n",
              "        vertical-align: top;\n",
              "    }\n",
              "\n",
              "    .dataframe thead th {\n",
              "        text-align: right;\n",
              "    }\n",
              "</style>\n",
              "<table border=\"1\" class=\"dataframe\">\n",
              "  <thead>\n",
              "    <tr style=\"text-align: right;\">\n",
              "      <th></th>\n",
              "      <th>Elevation</th>\n",
              "      <th>Aspect</th>\n",
              "      <th>Slope</th>\n",
              "      <th>Horizontal_Distance_To_Hydrology</th>\n",
              "      <th>Vertical_Distance_To_Hydrology</th>\n",
              "      <th>Horizontal_Distance_To_Roadways</th>\n",
              "      <th>Hillshade_9am</th>\n",
              "      <th>Hillshade_Noon</th>\n",
              "      <th>Hillshade_3pm</th>\n",
              "      <th>Horizontal_Distance_To_Fire_Points</th>\n",
              "      <th>Cover_Type</th>\n",
              "    </tr>\n",
              "  </thead>\n",
              "  <tbody>\n",
              "    <tr>\n",
              "      <th>0</th>\n",
              "      <td>2596</td>\n",
              "      <td>51</td>\n",
              "      <td>3</td>\n",
              "      <td>258</td>\n",
              "      <td>0</td>\n",
              "      <td>510</td>\n",
              "      <td>221</td>\n",
              "      <td>232</td>\n",
              "      <td>148</td>\n",
              "      <td>6279</td>\n",
              "      <td>5</td>\n",
              "    </tr>\n",
              "    <tr>\n",
              "      <th>1</th>\n",
              "      <td>2590</td>\n",
              "      <td>56</td>\n",
              "      <td>2</td>\n",
              "      <td>212</td>\n",
              "      <td>-6</td>\n",
              "      <td>390</td>\n",
              "      <td>220</td>\n",
              "      <td>235</td>\n",
              "      <td>151</td>\n",
              "      <td>6225</td>\n",
              "      <td>5</td>\n",
              "    </tr>\n",
              "    <tr>\n",
              "      <th>2</th>\n",
              "      <td>2804</td>\n",
              "      <td>139</td>\n",
              "      <td>9</td>\n",
              "      <td>268</td>\n",
              "      <td>65</td>\n",
              "      <td>3180</td>\n",
              "      <td>234</td>\n",
              "      <td>238</td>\n",
              "      <td>135</td>\n",
              "      <td>6121</td>\n",
              "      <td>2</td>\n",
              "    </tr>\n",
              "    <tr>\n",
              "      <th>3</th>\n",
              "      <td>2785</td>\n",
              "      <td>155</td>\n",
              "      <td>18</td>\n",
              "      <td>242</td>\n",
              "      <td>118</td>\n",
              "      <td>3090</td>\n",
              "      <td>238</td>\n",
              "      <td>238</td>\n",
              "      <td>122</td>\n",
              "      <td>6211</td>\n",
              "      <td>2</td>\n",
              "    </tr>\n",
              "    <tr>\n",
              "      <th>4</th>\n",
              "      <td>2595</td>\n",
              "      <td>45</td>\n",
              "      <td>2</td>\n",
              "      <td>153</td>\n",
              "      <td>-1</td>\n",
              "      <td>391</td>\n",
              "      <td>220</td>\n",
              "      <td>234</td>\n",
              "      <td>150</td>\n",
              "      <td>6172</td>\n",
              "      <td>5</td>\n",
              "    </tr>\n",
              "  </tbody>\n",
              "</table>\n",
              "</div>"
            ],
            "text/plain": [
              "   Elevation  Aspect  ...  Horizontal_Distance_To_Fire_Points  Cover_Type\n",
              "0       2596      51  ...                                6279           5\n",
              "1       2590      56  ...                                6225           5\n",
              "2       2804     139  ...                                6121           2\n",
              "3       2785     155  ...                                6211           2\n",
              "4       2595      45  ...                                6172           5\n",
              "\n",
              "[5 rows x 11 columns]"
            ]
          },
          "execution_count": 17,
          "metadata": {},
          "output_type": "execute_result"
        }
      ]
    },
    {
      "cell_type": "code",
      "metadata": {
        "id": "69K9a-Dfowc5"
      },
      "source": [
        "y = data[\"Cover_Type\"]\n",
        "X = data.drop([\"Cover_Type\"], axis=1)"
      ],
      "execution_count": null,
      "outputs": []
    },
    {
      "cell_type": "code",
      "metadata": {
        "id": "b1L58ufHo8ap"
      },
      "source": [
        "X_train, X_test, y_train, y_test = train_test_split(X, y, test_size=0.3, random_state=42)"
      ],
      "execution_count": null,
      "outputs": []
    },
    {
      "cell_type": "code",
      "metadata": {
        "id": "CvDLD6SapE7_"
      },
      "source": [
        "X_train_std = (X_train - np.mean(X_train))/np.std(X_train)\n",
        "X_test_std = (X_test - np.mean(X_train))/np.std(X_train)"
      ],
      "execution_count": null,
      "outputs": []
    },
    {
      "cell_type": "code",
      "metadata": {
        "colab": {
          "base_uri": "https://localhost:8080/"
        },
        "id": "Egm3SIjMprt0",
        "outputId": "7ba918ed-dffb-4b06-dc52-fcc98b74707e"
      },
      "source": [
        "clf = MLPClassifier(random_state=42, max_iter=300,\n",
        "                    activation='relu', solver='adam',\n",
        "                    verbose=True).fit(X_train_std, y_train)"
      ],
      "execution_count": null,
      "outputs": [
        {
          "name": "stdout",
          "output_type": "stream",
          "text": [
            "Iteration 1, loss = 0.72402161\n",
            "Iteration 2, loss = 0.63423901\n",
            "Iteration 3, loss = 0.61644464\n",
            "Iteration 4, loss = 0.60387251\n",
            "Iteration 5, loss = 0.59409156\n",
            "Iteration 6, loss = 0.58641581\n",
            "Iteration 7, loss = 0.57957870\n",
            "Iteration 8, loss = 0.57359969\n",
            "Iteration 9, loss = 0.56838852\n",
            "Iteration 10, loss = 0.56384610\n",
            "Iteration 11, loss = 0.55955934\n",
            "Iteration 12, loss = 0.55575685\n",
            "Iteration 13, loss = 0.55214114\n",
            "Iteration 14, loss = 0.54916334\n",
            "Iteration 15, loss = 0.54625651\n",
            "Iteration 16, loss = 0.54348615\n",
            "Iteration 17, loss = 0.54089815\n",
            "Iteration 18, loss = 0.53858444\n",
            "Iteration 19, loss = 0.53664607\n",
            "Iteration 20, loss = 0.53414735\n",
            "Iteration 21, loss = 0.53261664\n",
            "Iteration 22, loss = 0.53072767\n",
            "Iteration 23, loss = 0.52921340\n",
            "Iteration 24, loss = 0.52785223\n",
            "Iteration 25, loss = 0.52661588\n",
            "Iteration 26, loss = 0.52525489\n",
            "Iteration 27, loss = 0.52379268\n",
            "Iteration 28, loss = 0.52274097\n",
            "Iteration 29, loss = 0.52175910\n",
            "Iteration 30, loss = 0.52028613\n",
            "Iteration 31, loss = 0.51939512\n",
            "Iteration 32, loss = 0.51830955\n",
            "Iteration 33, loss = 0.51761229\n",
            "Iteration 34, loss = 0.51653170\n",
            "Iteration 35, loss = 0.51520667\n",
            "Iteration 36, loss = 0.51449522\n",
            "Iteration 37, loss = 0.51411882\n",
            "Iteration 38, loss = 0.51299541\n",
            "Iteration 39, loss = 0.51233896\n",
            "Iteration 40, loss = 0.51168949\n",
            "Iteration 41, loss = 0.51099829\n",
            "Iteration 42, loss = 0.51041909\n",
            "Iteration 43, loss = 0.50964315\n",
            "Iteration 44, loss = 0.50890609\n",
            "Iteration 45, loss = 0.50838343\n",
            "Iteration 46, loss = 0.50776777\n",
            "Iteration 47, loss = 0.50698580\n",
            "Iteration 48, loss = 0.50648296\n",
            "Iteration 49, loss = 0.50616724\n",
            "Iteration 50, loss = 0.50569725\n",
            "Iteration 51, loss = 0.50510111\n",
            "Iteration 52, loss = 0.50445750\n",
            "Iteration 53, loss = 0.50433102\n",
            "Iteration 54, loss = 0.50407034\n",
            "Iteration 55, loss = 0.50305769\n",
            "Iteration 56, loss = 0.50342497\n",
            "Iteration 57, loss = 0.50280454\n",
            "Iteration 58, loss = 0.50205049\n",
            "Iteration 59, loss = 0.50178599\n",
            "Iteration 60, loss = 0.50167668\n",
            "Iteration 61, loss = 0.50120223\n",
            "Iteration 62, loss = 0.50077604\n",
            "Iteration 63, loss = 0.50030121\n",
            "Iteration 64, loss = 0.50025369\n",
            "Iteration 65, loss = 0.50002051\n",
            "Iteration 66, loss = 0.49968841\n",
            "Iteration 67, loss = 0.49918756\n",
            "Iteration 68, loss = 0.49882248\n",
            "Iteration 69, loss = 0.49873889\n",
            "Iteration 70, loss = 0.49835710\n",
            "Iteration 71, loss = 0.49807346\n",
            "Iteration 72, loss = 0.49780897\n",
            "Iteration 73, loss = 0.49750256\n",
            "Iteration 74, loss = 0.49732760\n",
            "Iteration 75, loss = 0.49703345\n",
            "Iteration 76, loss = 0.49681269\n",
            "Iteration 77, loss = 0.49711579\n",
            "Iteration 78, loss = 0.49646818\n",
            "Iteration 79, loss = 0.49603366\n",
            "Iteration 80, loss = 0.49600799\n",
            "Iteration 81, loss = 0.49575177\n",
            "Iteration 82, loss = 0.49519528\n",
            "Iteration 83, loss = 0.49516038\n",
            "Iteration 84, loss = 0.49496767\n",
            "Iteration 85, loss = 0.49493517\n",
            "Iteration 86, loss = 0.49459107\n",
            "Iteration 87, loss = 0.49442559\n",
            "Iteration 88, loss = 0.49427331\n",
            "Iteration 89, loss = 0.49419404\n",
            "Iteration 90, loss = 0.49401599\n",
            "Iteration 91, loss = 0.49353920\n",
            "Iteration 92, loss = 0.49371637\n",
            "Iteration 93, loss = 0.49319017\n",
            "Iteration 94, loss = 0.49334930\n",
            "Iteration 95, loss = 0.49326924\n",
            "Iteration 96, loss = 0.49269383\n",
            "Iteration 97, loss = 0.49299009\n",
            "Iteration 98, loss = 0.49295521\n",
            "Iteration 99, loss = 0.49272076\n",
            "Iteration 100, loss = 0.49242808\n",
            "Iteration 101, loss = 0.49206822\n",
            "Iteration 102, loss = 0.49210252\n",
            "Iteration 103, loss = 0.49201087\n",
            "Iteration 104, loss = 0.49151320\n",
            "Iteration 105, loss = 0.49163897\n",
            "Iteration 106, loss = 0.49153258\n",
            "Iteration 107, loss = 0.49127587\n",
            "Iteration 108, loss = 0.49154707\n",
            "Iteration 109, loss = 0.49105962\n",
            "Iteration 110, loss = 0.49088494\n",
            "Iteration 111, loss = 0.49103845\n",
            "Iteration 112, loss = 0.49043681\n",
            "Iteration 113, loss = 0.49046426\n",
            "Iteration 114, loss = 0.49051987\n",
            "Iteration 115, loss = 0.49031491\n",
            "Iteration 116, loss = 0.49006713\n",
            "Iteration 117, loss = 0.48983723\n",
            "Iteration 118, loss = 0.48939819\n",
            "Iteration 119, loss = 0.48980808\n",
            "Iteration 120, loss = 0.48935056\n",
            "Iteration 121, loss = 0.48989377\n",
            "Iteration 122, loss = 0.48912439\n",
            "Iteration 123, loss = 0.48883563\n",
            "Iteration 124, loss = 0.48907993\n",
            "Iteration 125, loss = 0.48893142\n",
            "Iteration 126, loss = 0.48852660\n",
            "Iteration 127, loss = 0.48847129\n",
            "Iteration 128, loss = 0.48818712\n",
            "Iteration 129, loss = 0.48848891\n",
            "Iteration 130, loss = 0.48780877\n",
            "Iteration 131, loss = 0.48814856\n",
            "Iteration 132, loss = 0.48819272\n",
            "Iteration 133, loss = 0.48801562\n",
            "Iteration 134, loss = 0.48770717\n",
            "Iteration 135, loss = 0.48761944\n",
            "Iteration 136, loss = 0.48782946\n",
            "Iteration 137, loss = 0.48715765\n",
            "Iteration 138, loss = 0.48751166\n",
            "Iteration 139, loss = 0.48732090\n",
            "Iteration 140, loss = 0.48770099\n",
            "Iteration 141, loss = 0.48709709\n",
            "Iteration 142, loss = 0.48686390\n",
            "Iteration 143, loss = 0.48703850\n",
            "Iteration 144, loss = 0.48700524\n",
            "Iteration 145, loss = 0.48669386\n",
            "Iteration 146, loss = 0.48672733\n",
            "Iteration 147, loss = 0.48677336\n",
            "Iteration 148, loss = 0.48668737\n",
            "Iteration 149, loss = 0.48647397\n",
            "Iteration 150, loss = 0.48680868\n",
            "Iteration 151, loss = 0.48664854\n",
            "Iteration 152, loss = 0.48637026\n",
            "Iteration 153, loss = 0.48597535\n",
            "Iteration 154, loss = 0.48619080\n",
            "Iteration 155, loss = 0.48632931\n",
            "Iteration 156, loss = 0.48603002\n",
            "Iteration 157, loss = 0.48583305\n",
            "Iteration 158, loss = 0.48599147\n",
            "Iteration 159, loss = 0.48570210\n",
            "Iteration 160, loss = 0.48612457\n",
            "Iteration 161, loss = 0.48580585\n",
            "Iteration 162, loss = 0.48564659\n",
            "Iteration 163, loss = 0.48564609\n",
            "Iteration 164, loss = 0.48548222\n",
            "Iteration 165, loss = 0.48518582\n",
            "Iteration 166, loss = 0.48533927\n",
            "Iteration 167, loss = 0.48521099\n",
            "Iteration 168, loss = 0.48468198\n",
            "Iteration 169, loss = 0.48523441\n",
            "Iteration 170, loss = 0.48535086\n",
            "Iteration 171, loss = 0.48500938\n",
            "Iteration 172, loss = 0.48494811\n",
            "Iteration 173, loss = 0.48460641\n",
            "Iteration 174, loss = 0.48464976\n",
            "Iteration 175, loss = 0.48493309\n",
            "Iteration 176, loss = 0.48471671\n",
            "Iteration 177, loss = 0.48445256\n",
            "Iteration 178, loss = 0.48455346\n",
            "Iteration 179, loss = 0.48463012\n",
            "Iteration 180, loss = 0.48415495\n",
            "Iteration 181, loss = 0.48432427\n",
            "Iteration 182, loss = 0.48402850\n",
            "Iteration 183, loss = 0.48443819\n",
            "Iteration 184, loss = 0.48401396\n",
            "Iteration 185, loss = 0.48425029\n",
            "Iteration 186, loss = 0.48417796\n",
            "Iteration 187, loss = 0.48412739\n",
            "Iteration 188, loss = 0.48387361\n",
            "Iteration 189, loss = 0.48383421\n",
            "Iteration 190, loss = 0.48416655\n",
            "Iteration 191, loss = 0.48369177\n",
            "Iteration 192, loss = 0.48366226\n",
            "Iteration 193, loss = 0.48355758\n",
            "Iteration 194, loss = 0.48341101\n",
            "Iteration 195, loss = 0.48324463\n",
            "Iteration 196, loss = 0.48317811\n",
            "Iteration 197, loss = 0.48332441\n",
            "Iteration 198, loss = 0.48282010\n",
            "Iteration 199, loss = 0.48291442\n",
            "Iteration 200, loss = 0.48284349\n",
            "Iteration 201, loss = 0.48357652\n",
            "Iteration 202, loss = 0.48273262\n",
            "Iteration 203, loss = 0.48322757\n",
            "Iteration 204, loss = 0.48297452\n",
            "Iteration 205, loss = 0.48256412\n",
            "Iteration 206, loss = 0.48281381\n",
            "Iteration 207, loss = 0.48228674\n",
            "Iteration 208, loss = 0.48226065\n",
            "Iteration 209, loss = 0.48260191\n",
            "Iteration 210, loss = 0.48230630\n",
            "Iteration 211, loss = 0.48260808\n",
            "Iteration 212, loss = 0.48247394\n",
            "Iteration 213, loss = 0.48273175\n",
            "Iteration 214, loss = 0.48236944\n",
            "Iteration 215, loss = 0.48232662\n",
            "Iteration 216, loss = 0.48202060\n",
            "Iteration 217, loss = 0.48250756\n",
            "Iteration 218, loss = 0.48228059\n",
            "Iteration 219, loss = 0.48217828\n",
            "Iteration 220, loss = 0.48189638\n",
            "Iteration 221, loss = 0.48203710\n",
            "Iteration 222, loss = 0.48216720\n",
            "Iteration 223, loss = 0.48227434\n",
            "Iteration 224, loss = 0.48200688\n",
            "Iteration 225, loss = 0.48179566\n",
            "Iteration 226, loss = 0.48194529\n",
            "Iteration 227, loss = 0.48199675\n",
            "Iteration 228, loss = 0.48120410\n",
            "Iteration 229, loss = 0.48173926\n",
            "Iteration 230, loss = 0.48181499\n",
            "Iteration 231, loss = 0.48158122\n",
            "Iteration 232, loss = 0.48184007\n",
            "Iteration 233, loss = 0.48170178\n",
            "Iteration 234, loss = 0.48147231\n",
            "Iteration 235, loss = 0.48150249\n",
            "Iteration 236, loss = 0.48139647\n",
            "Iteration 237, loss = 0.48130179\n",
            "Iteration 238, loss = 0.48144191\n",
            "Iteration 239, loss = 0.48146272\n",
            "Training loss did not improve more than tol=0.000100 for 10 consecutive epochs. Stopping.\n"
          ]
        }
      ]
    },
    {
      "cell_type": "code",
      "metadata": {
        "id": "ZR1_I9kQsao8"
      },
      "source": [
        "y_pred = clf.predict(X_test_std)"
      ],
      "execution_count": null,
      "outputs": []
    },
    {
      "cell_type": "code",
      "metadata": {
        "colab": {
          "base_uri": "https://localhost:8080/",
          "height": 282
        },
        "id": "n53XCahbslEA",
        "outputId": "b5d45958-2f26-4ffc-b665-69b142a0bc07"
      },
      "source": [
        "cf_matrix = confusion_matrix(y_pred=y_pred, y_true=y_test)\n",
        "sns.heatmap(cf_matrix/np.sum(cf_matrix),\n",
        "            annot=True, fmt='.2%', cmap='Blues')"
      ],
      "execution_count": null,
      "outputs": [
        {
          "data": {
            "text/plain": [
              "<matplotlib.axes._subplots.AxesSubplot at 0x7f3c3e99e090>"
            ]
          },
          "execution_count": 23,
          "metadata": {},
          "output_type": "execute_result"
        },
        {
          "data": {
            "image/png": "[encoded data removed]",
            "text/plain": [
              "<Figure size 432x288 with 2 Axes>"
            ]
          },
          "metadata": {},
          "output_type": "display_data"
        }
      ]
    },
    {
      "cell_type": "code",
      "metadata": {
        "id": "FDwVk4Xy0HW0"
      },
      "source": [
        "def print_metrics(y_pred, y_test):\n",
        "  print(f\"Acurácia: {accuracy_score(y_pred=y_pred, y_true=y_test)}\")\n",
        "  print(f\"Precisão: {precision_score(y_pred=y_pred, y_true=y_test, average='macro')}\")\n",
        "  print(f\"Revocação: {recall_score(y_pred=y_pred, y_true=y_test, average='macro')}\")\n",
        "  print(f\"F1: {f1_score(y_pred=y_pred, y_true=y_test, average='macro')}\")"
      ],
      "execution_count": null,
      "outputs": []
    },
    {
      "cell_type": "code",
      "metadata": {
        "colab": {
          "base_uri": "https://localhost:8080/"
        },
        "id": "Y9o0iNqQuKoa",
        "outputId": "1252cd75-f372-4b83-bca0-13755c376a4d"
      },
      "source": [
        "print_metrics(y_pred, y_test)"
      ],
      "execution_count": null,
      "outputs": [
        {
          "name": "stdout",
          "output_type": "stream",
          "text": [
            "Acurácia: 0.7889893519368459\n",
            "Precisão: 0.7540782895845793\n",
            "Revocação: 0.6513844334392414\n",
            "F1: 0.6877289267228832\n"
          ]
        }
      ]
    },
    {
      "cell_type": "code",
      "metadata": {
        "colab": {
          "background_save": true,
          "base_uri": "https://localhost:8080/"
        },
        "id": "373kP39d0aIp",
        "outputId": "2f0ca0d7-8c77-4c49-e9b8-edfdcb76a70a"
      },
      "source": [
        "f1_list = []\n",
        "accuracy_list = []\n",
        "\n",
        "for i in range(15):\n",
        "  \n",
        "  X_train, X_test, y_train, y_test = train_test_split(X, y, test_size=0.3, random_state=i)\n",
        "\n",
        "  X_train_std = (X_train - np.mean(X_train))/np.std(X_train)\n",
        "  X_test_std = (X_test - np.mean(X_train))/np.std(X_train)\n",
        "\n",
        "  clf = MLPClassifier(random_state=42, max_iter=300, activation='relu', solver='adam', verbose=False)\n",
        "  print(f\"Treinando rede {i+1}...\")\n",
        "  clf.fit(X_train_std, y_train)\n",
        "\n",
        "  y_pred = clf.predict(X_test_std)\n",
        "\n",
        "  f1_list.append(f1_score(y_pred=y_pred, y_true=y_test, average='macro'))\n",
        "  accuracy_list.append(accuracy_score(y_pred=y_pred, y_true=y_test))"
      ],
      "execution_count": null,
      "outputs": [
        {
          "name": "stdout",
          "output_type": "stream",
          "text": [
            "Treinando rede 1...\n",
            "Treinando rede 2...\n"
          ]
        },
        {
          "name": "stderr",
          "output_type": "stream",
          "text": [
            "/usr/local/lib/python3.7/dist-packages/sklearn/neural_network/_multilayer_perceptron.py:696: ConvergenceWarning: Stochastic Optimizer: Maximum iterations (300) reached and the optimization hasn't converged yet.\n",
            "  ConvergenceWarning,\n"
          ]
        },
        {
          "name": "stdout",
          "output_type": "stream",
          "text": [
            "Treinando rede 3...\n",
            "Treinando rede 4...\n",
            "Treinando rede 5...\n"
          ]
        },
        {
          "name": "stderr",
          "output_type": "stream",
          "text": [
            "/usr/local/lib/python3.7/dist-packages/sklearn/neural_network/_multilayer_perceptron.py:696: ConvergenceWarning: Stochastic Optimizer: Maximum iterations (300) reached and the optimization hasn't converged yet.\n",
            "  ConvergenceWarning,\n"
          ]
        },
        {
          "name": "stdout",
          "output_type": "stream",
          "text": [
            "Treinando rede 6...\n",
            "Treinando rede 7...\n",
            "Treinando rede 8...\n"
          ]
        },
        {
          "name": "stderr",
          "output_type": "stream",
          "text": [
            "/usr/local/lib/python3.7/dist-packages/sklearn/neural_network/_multilayer_perceptron.py:696: ConvergenceWarning: Stochastic Optimizer: Maximum iterations (300) reached and the optimization hasn't converged yet.\n",
            "  ConvergenceWarning,\n"
          ]
        },
        {
          "name": "stdout",
          "output_type": "stream",
          "text": [
            "Treinando rede 9...\n"
          ]
        },
        {
          "name": "stderr",
          "output_type": "stream",
          "text": [
            "/usr/local/lib/python3.7/dist-packages/sklearn/neural_network/_multilayer_perceptron.py:696: ConvergenceWarning: Stochastic Optimizer: Maximum iterations (300) reached and the optimization hasn't converged yet.\n",
            "  ConvergenceWarning,\n"
          ]
        },
        {
          "name": "stdout",
          "output_type": "stream",
          "text": [
            "Treinando rede 10...\n",
            "Treinando rede 11...\n"
          ]
        },
        {
          "name": "stderr",
          "output_type": "stream",
          "text": [
            "/usr/local/lib/python3.7/dist-packages/sklearn/neural_network/_multilayer_perceptron.py:696: ConvergenceWarning: Stochastic Optimizer: Maximum iterations (300) reached and the optimization hasn't converged yet.\n",
            "  ConvergenceWarning,\n"
          ]
        },
        {
          "name": "stdout",
          "output_type": "stream",
          "text": [
            "Treinando rede 12...\n"
          ]
        },
        {
          "name": "stderr",
          "output_type": "stream",
          "text": [
            "/usr/local/lib/python3.7/dist-packages/sklearn/neural_network/_multilayer_perceptron.py:696: ConvergenceWarning: Stochastic Optimizer: Maximum iterations (300) reached and the optimization hasn't converged yet.\n",
            "  ConvergenceWarning,\n"
          ]
        },
        {
          "name": "stdout",
          "output_type": "stream",
          "text": [
            "Treinando rede 13...\n"
          ]
        },
        {
          "name": "stderr",
          "output_type": "stream",
          "text": [
            "/usr/local/lib/python3.7/dist-packages/sklearn/neural_network/_multilayer_perceptron.py:696: ConvergenceWarning: Stochastic Optimizer: Maximum iterations (300) reached and the optimization hasn't converged yet.\n",
            "  ConvergenceWarning,\n"
          ]
        },
        {
          "name": "stdout",
          "output_type": "stream",
          "text": [
            "Treinando rede 14...\n",
            "Treinando rede 15...\n"
          ]
        },
        {
          "name": "stderr",
          "output_type": "stream",
          "text": [
            "/usr/local/lib/python3.7/dist-packages/sklearn/neural_network/_multilayer_perceptron.py:696: ConvergenceWarning: Stochastic Optimizer: Maximum iterations (300) reached and the optimization hasn't converged yet.\n",
            "  ConvergenceWarning,\n"
          ]
        }
      ]
    },
    {
      "cell_type": "code",
      "metadata": {
        "colab": {
          "background_save": true
        },
        "id": "jcRG1Pt92EK3",
        "outputId": "a982705c-db1f-4685-9924-fc59b700da44"
      },
      "source": [
        "print(f\"Acurácia:\\n\\tMédia: {np.mean(accuracy_list)}\\n\\tDesvio Padrão: {np.std(accuracy_list)}\")\n",
        "print(f\"F1 Score:\\n\\tMédia: {np.mean(f1_list)}\\n\\tDesvio Padrão: {np.std(f1_list)}\")"
      ],
      "execution_count": null,
      "outputs": [
        {
          "name": "stdout",
          "output_type": "stream",
          "text": [
            "Acurácia:\n",
            "\tMédia: 0.7939263202986354\n",
            "\tDesvio Padrão: 0.003355083380458368\n",
            "F1 Score:\n",
            "\tMédia: 0.7006381792535136\n",
            "\tDesvio Padrão: 0.007736163617741904\n"
          ]
        }
      ]
    },
    {
      "cell_type": "markdown",
      "metadata": {
        "id": "1nD7z_y-ZnUU"
      },
      "source": [
        "## Discussão\n",
        "\n",
        "Nos passos anteriores, você avaliou o desempenho de uma única rede neural que contém os seguintes parâmetros: uma única camada oculta com 10 neurônios e função de ativação ReLU. O otimizador utilizado, quer seja SGD ou ADAM, trata-se do algoritmo para aproximar o gradiente do erro. Neste sentido, a escolha do otimizador é um hiperparâmetro, pois diz respeito a como a rede neural definida previamente atuará \"em tempo de execução\"  durante o processo de treinamento. Também são hiperparâmetros a quantidade de épocas, a taxa de aprendizado inicial, dentre outros.\n",
        "\n",
        "Cabe alientar também que você efetuou o treinamento desta rede por 100 vezes e apresentou os resultados em termos de média +- desvio padrão. Lembre-se que em uma rede neural há a inicialização aleatória de pesos e, em consequência, o desempenho delas está sujeito à uma flutuação estocástica. A execução destas múltiplas vezes faz com que eliminemos algum viés introduzido por uma boa ou má \"sorte\" na escolha de pesos no caso de uma única execução.\n",
        "\n",
        "Você também aprendeu uma estratégia para escalonar os atributos para uma melhor convergência da rede. Utilize-a em todos os treinamentos e testes propostos a seguir.\n",
        "\n",
        "## Propondo Novas Arquiteturas\n",
        "\n",
        "Variando  os parâmetros (uma ou duas camadas ocultas, com diferente números de neurônios em cada uma delas e a função de ativação) e o hiperparâmetros solver (Adam ou SGD) e o número de épocas (100,150 e 200), atenda ao que se pede:\n",
        "\n",
        "1. Proponha 10 arquiteturas distintas de RNAs para o problema em questão, à sua escolha\n",
        "2. Avalie cada uma das arquiteturas perante todos os hiperparâmetros apresentados por 100 vezes\n",
        "3. Como resultado da avaliação, apresente:  \n",
        "    3.1 Top-3 melhores redes no tocante à F-Score e Acurácia  \n",
        "    3.2 Repetição em que houve o melhor desempenho de cada uma dessas redes: ilustre tp, tf, fp e fn  "
      ]
    },
    {
      "cell_type": "code",
      "metadata": {
        "id": "Bnfo7E6dnZ1n"
      },
      "source": [
        "# todo 10 arquiteturas com um id cada tipo (\"rede_1\", MLPClassifier())"
      ],
      "execution_count": null,
      "outputs": []
    },
    {
      "cell_type": "code",
      "metadata": {
        "colab": {
          "background_save": true
        },
        "id": "gOiWEUyxZnUV"
      },
      "source": [
        "# todo, top 3, melhor desempenho em uma iteração\n",
        "for clf in clf_list\n",
        "  for i in range(15):\n",
        "    \n",
        "    X_train, X_test, y_train, y_test = train_test_split(X, y, test_size=0.3, random_state=i)\n",
        "\n",
        "    X_train_std = (X_train - np.mean(X_train))/np.std(X_train)\n",
        "    X_test_std = (X_test - np.mean(X_train))/np.std(X_train)\n",
        "\n",
        "    clf = MLPClassifier(random_state=42, max_iter=300, activation='relu', solver='adam', verbose=False)\n",
        "    print(f\"Treinando rede {i+1}...\")\n",
        "    clf.fit(X_train_std, y_train)\n",
        "\n",
        "    y_pred = clf.predict(X_test_std)\n",
        "\n",
        "    f1_list.append(f1_score(y_pred=y_pred, y_true=y_test, average='macro'))\n",
        "    accuracy_list.append(accuracy_score(y_pred=y_pred, y_true=y_test))"
      ],
      "execution_count": null,
      "outputs": []
    },
    {
      "cell_type": "markdown",
      "metadata": {
        "id": "RPME06dkZnUV"
      },
      "source": [
        "## Estimando o número de neurônios\n",
        "\n",
        "Um dos problemas de pesquisa com redes neurais artificiais consiste na determinação do número de neurônios em sua arquitetura. Embora não seja possível definir a priori qual rede neural é adequada para um problema, pois isto só é possível mediante uma busca exaustiva, há regras na literatura que sugerem o número de neurônios escondidos, tal como a regra da Pirâmide Geométrica, dada a seguir:\n",
        "\n",
        "$$N_h = \\alpha \\cdot \\sqrt{N_i \\cdot N_o},$$\n",
        "\n",
        "em que $N_h$ é o número de neurônios ocultos (a serem distribuídos em uma ou duas camadas ocultas), $N_i$ é o número de neurônios na camada de entrada e $N_o$ é o número de neurônios na camada de saída. \n",
        "\n",
        "1. Consulte a documentação da classe MLPClassifier (disponível em https://scikit-learn.org/stable/modules/generated/sklearn.neural_network.MLPClassifier.html) e obtenha os valores de $N_i$ e $N_o$.\n",
        "2. Teste os valores de $\\alpha$ como sendo iguais a $0.5$, $2$ e $3$.\n",
        "3. Proponha pelo menos 30 redes neurais segundo a regra da pirâmide geométrica e teste-as nos mesmos termos estabelecidos anterioremente  (solver, épocas, etc.)  \n",
        "    3.1 Apresente as top-3 melhores redes no tocante à F-Score e Acurácia  "
      ]
    },
    {
      "cell_type": "code",
      "metadata": {
        "colab": {
          "background_save": true
        },
        "id": "5cAU2ossZnUW"
      },
      "source": [
        ""
      ],
      "execution_count": null,
      "outputs": []
    },
    {
      "cell_type": "markdown",
      "metadata": {
        "id": "qne4v70VZnUW"
      },
      "source": [
        "## Testando as Redes Neurais com Atributos Categóricos\n",
        "\n",
        "1. Considere as 6 redes neurais obtidas nos dois top-3 anteriores (arquiteturas próprias e regra da pirâmide geométrica)\n",
        "2. Com todos os atributos preditores da base de dados original, incluindo os categóricos, treine e teste estas mesmas redes por 100 repetições  \n",
        "    2.1 Considere o melhor otimizador para cada uma delas  \n",
        "    2.2 Faça uso de 200 épocas para treinamento  \n",
        "    2.2 Apresente os resultados de acurácia e F-Score em termos da média +- dp para cada arquitetura\n",
        "3. Apresente o gráfico boxplot para o F-Score das 6 arquiteturas perante as 100 repetições"
      ]
    },
    {
      "cell_type": "code",
      "metadata": {
        "colab": {
          "background_save": true
        },
        "id": "yMkBcAd_ZnUW"
      },
      "source": [
        ""
      ],
      "execution_count": null,
      "outputs": []
    },
    {
      "cell_type": "markdown",
      "metadata": {
        "id": "5j_VIKSkZnUW"
      },
      "source": [
        "## Considerações Parciais\n",
        "\n",
        "1. É possível identificar uma rede com desempenho superior às demais?\n",
        "2. Qual estratégia mostrou-se mais producente para a obtenção de boas arquiteturas (Estratégia Própria ou Pirâmide Geométrica)? Por quê?\n",
        "3. Considerar os atributos categóricos trouxe melhorias? Justifique.\n",
        "4. Um número maior de épocas trouxe melhorias?\n",
        "5. Qual a maior dificuldade de resolução do problema proposto perante as RNAs?"
      ]
    },
    {
      "cell_type": "code",
      "metadata": {
        "colab": {
          "background_save": true
        },
        "id": "M_kCII2FZnUW"
      },
      "source": [
        ""
      ],
      "execution_count": null,
      "outputs": []
    }
  ]
}